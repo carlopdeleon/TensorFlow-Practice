{
 "cells": [
  {
   "cell_type": "code",
   "execution_count": 8,
   "id": "2825beca",
   "metadata": {},
   "outputs": [],
   "source": [
    "# Basic imports\n",
    "import numpy as np\n",
    "import pandas as pd\n",
    "import datetime\n",
    "import matplotlib.pyplot as plt\n",
    "\n",
    "# sklearn imports\n",
    "from sklearn.model_selection import train_test_split\n",
    "from sklearn.metrics import accuracy_score\n",
    "\n",
    "# Import TensorFlow\n",
    "import tensorflow as tf\n",
    "from tensorflow.keras.datasets import imdb\n",
    "from tensorflow.keras.models import Sequential, load_model\n",
    "from tensorflow.keras.layers import Dense, Dropout, Conv2D, MaxPool2D, Flatten, Embedding,LSTM\n",
    "from tensorflow.keras.preprocessing.sequence import pad_sequences\n",
    "\n",
    "%matplotlib inline"
   ]
  },
  {
   "cell_type": "markdown",
   "id": "aa737b3b",
   "metadata": {},
   "source": [
    "# Data Preprocessing"
   ]
  },
  {
   "cell_type": "markdown",
   "id": "994d1b8c",
   "metadata": {},
   "source": [
    "## Setting up the Dataset Parameters"
   ]
  },
  {
   "cell_type": "code",
   "execution_count": 2,
   "id": "4f5374b4",
   "metadata": {},
   "outputs": [],
   "source": [
    "number_of_words = 20000\n",
    "max_len = 100"
   ]
  },
  {
   "cell_type": "markdown",
   "id": "5b20ba84",
   "metadata": {},
   "source": [
    "## Loading the IMDB Dataset"
   ]
  },
  {
   "cell_type": "code",
   "execution_count": 3,
   "id": "d6f96d0f",
   "metadata": {},
   "outputs": [],
   "source": [
    "(X_train, y_train), (X_test, y_test) = imdb.load_data(num_words=number_of_words)"
   ]
  },
  {
   "cell_type": "markdown",
   "id": "bf439dd0",
   "metadata": {},
   "source": [
    "## Padding all seequences to be the same length"
   ]
  },
  {
   "cell_type": "code",
   "execution_count": 4,
   "id": "8cc81848",
   "metadata": {},
   "outputs": [],
   "source": [
    "X_train = pad_sequences(X_train, maxlen=max_len)\n",
    "X_test = pad_sequences(X_test, maxlen=max_len)"
   ]
  },
  {
   "cell_type": "markdown",
   "id": "fe19bc2e",
   "metadata": {},
   "source": [
    "# Building a Recurrent Neural Network"
   ]
  },
  {
   "cell_type": "markdown",
   "id": "60da68c4",
   "metadata": {},
   "source": [
    "## Define the Model"
   ]
  },
  {
   "cell_type": "code",
   "execution_count": 5,
   "id": "2052b19f",
   "metadata": {},
   "outputs": [],
   "source": [
    "model = Sequential()"
   ]
  },
  {
   "cell_type": "markdown",
   "id": "a51d3d49",
   "metadata": {},
   "source": [
    "## Add the embedding layer\n",
    "Layer used to create a word vector representation of all the words. Trains the word vectors in a large matrix (20,000 words). Commonly used when doing NLP.\n",
    "- output_dim: number of columns"
   ]
  },
  {
   "cell_type": "code",
   "execution_count": 7,
   "id": "34e9bbac",
   "metadata": {},
   "outputs": [],
   "source": [
    "model.add(Embedding(input_dim=number_of_words, output_dim=128, input_shape=(X_train.shape[1], )))"
   ]
  },
  {
   "cell_type": "markdown",
   "id": "4ce1eddd",
   "metadata": {},
   "source": [
    "## Add the LSTM Layer\n",
    "Used to understand the relationships between the different elements of the sequences/words in the reviews. \n",
    "- units: 128\n",
    "- activation: tanh (tangent hyperbolic)"
   ]
  },
  {
   "cell_type": "code",
   "execution_count": 9,
   "id": "0de51089",
   "metadata": {},
   "outputs": [],
   "source": [
    "model.add(LSTM(units=128, activation='tanh'))"
   ]
  },
  {
   "cell_type": "markdown",
   "id": "44f71208",
   "metadata": {},
   "source": [
    "## Add the output layer\n",
    "- units: 1 output neuron (Binary output; 0=negative review, 1=positive review)\n",
    "- activation: sigmoid"
   ]
  },
  {
   "cell_type": "code",
   "execution_count": 10,
   "id": "22d97943",
   "metadata": {},
   "outputs": [],
   "source": [
    "model.add(Dense(units=1, activation='sigmoid'))"
   ]
  },
  {
   "cell_type": "markdown",
   "id": "e910bb4d",
   "metadata": {},
   "source": [
    "## Compile the Model\n",
    "optimizer= rmsprop (very common in Recurrent Neural Networks) <br>\n",
    "loss = binary crossentropy (for binary classification) <br>\n",
    "\n",
    "**sparse catergorical crossentropy is for multi-class classification**"
   ]
  },
  {
   "cell_type": "code",
   "execution_count": 11,
   "id": "f2958604",
   "metadata": {},
   "outputs": [],
   "source": [
    "model.compile(optimizer='rmsprop', loss='binary_crossentropy', metrics=['accuracy'])"
   ]
  },
  {
   "cell_type": "code",
   "execution_count": 12,
   "id": "7b9d85e1",
   "metadata": {},
   "outputs": [
    {
     "name": "stdout",
     "output_type": "stream",
     "text": [
      "Model: \"sequential\"\n",
      "_________________________________________________________________\n",
      " Layer (type)                Output Shape              Param #   \n",
      "=================================================================\n",
      " embedding_1 (Embedding)     (None, 100, 128)          2560000   \n",
      "                                                                 \n",
      " lstm (LSTM)                 (None, 128)               131584    \n",
      "                                                                 \n",
      " dense (Dense)               (None, 1)                 129       \n",
      "                                                                 \n",
      "=================================================================\n",
      "Total params: 2,691,713\n",
      "Trainable params: 2,691,713\n",
      "Non-trainable params: 0\n",
      "_________________________________________________________________\n"
     ]
    }
   ],
   "source": [
    "model.summary()"
   ]
  },
  {
   "cell_type": "markdown",
   "id": "5b8ab1d9",
   "metadata": {},
   "source": [
    "**Breakdown of Layers:** <br>\n",
    "MOdel: Sequential - sequence of layers<br>\n",
    "Embedding: Layer for word vectorizatio in a matrix composed of 128 columns.<br>\n",
    "LSTM: Long Short-Term Memory network; 128 units<br>\n",
    "Dense: the output layer with 1 unit for binary output."
   ]
  },
  {
   "cell_type": "markdown",
   "id": "a05672b2",
   "metadata": {},
   "source": [
    "## Train the Model\n",
    "epochs= 3 (number of times model trains) \n",
    "\n",
    "batch_size = 128 reviews per batch"
   ]
  },
  {
   "cell_type": "code",
   "execution_count": 13,
   "id": "bba348c2",
   "metadata": {},
   "outputs": [
    {
     "name": "stdout",
     "output_type": "stream",
     "text": [
      "Epoch 1/3\n"
     ]
    },
    {
     "name": "stderr",
     "output_type": "stream",
     "text": [
      "2023-04-22 11:12:59.823940: W tensorflow/tsl/platform/profile_utils/cpu_utils.cc:128] Failed to get CPU frequency: 0 Hz\n"
     ]
    },
    {
     "name": "stdout",
     "output_type": "stream",
     "text": [
      "196/196 [==============================] - 32s 161ms/step - loss: 0.5550 - accuracy: 0.7034\n",
      "Epoch 2/3\n",
      "196/196 [==============================] - 32s 165ms/step - loss: 0.3485 - accuracy: 0.8550\n",
      "Epoch 3/3\n",
      "196/196 [==============================] - 33s 167ms/step - loss: 0.2890 - accuracy: 0.8839\n"
     ]
    },
    {
     "data": {
      "text/plain": [
       "<keras.callbacks.History at 0x17d627df0>"
      ]
     },
     "execution_count": 13,
     "metadata": {},
     "output_type": "execute_result"
    }
   ],
   "source": [
    "model.fit(X_train, y_train, epochs=3, batch_size= 128)"
   ]
  },
  {
   "cell_type": "markdown",
   "id": "d7bce7cf",
   "metadata": {},
   "source": [
    "## Evaluate the Model"
   ]
  },
  {
   "cell_type": "code",
   "execution_count": 14,
   "id": "45af7ce8",
   "metadata": {},
   "outputs": [
    {
     "name": "stdout",
     "output_type": "stream",
     "text": [
      "782/782 [==============================] - 14s 17ms/step - loss: 0.5631 - accuracy: 0.8121\n",
      " Test Loss: 0.5630922913551331\n",
      " Test Accuracy: 0.8121\n"
     ]
    }
   ],
   "source": [
    "test_loss, test_accuracy = model.evaluate(X_test, y_test)\n",
    "\n",
    "print(f' Test Loss: {test_loss}')\n",
    "print(f' Test Accuracy: {round(test_accuracy,4)}')"
   ]
  },
  {
   "cell_type": "code",
   "execution_count": null,
   "id": "875cd5ae",
   "metadata": {},
   "outputs": [],
   "source": []
  }
 ],
 "metadata": {
  "kernelspec": {
   "display_name": "Python 3 (ipykernel)",
   "language": "python",
   "name": "python3"
  },
  "language_info": {
   "codemirror_mode": {
    "name": "ipython",
    "version": 3
   },
   "file_extension": ".py",
   "mimetype": "text/x-python",
   "name": "python",
   "nbconvert_exporter": "python",
   "pygments_lexer": "ipython3",
   "version": "3.9.15"
  },
  "toc": {
   "base_numbering": 1,
   "nav_menu": {},
   "number_sections": true,
   "sideBar": true,
   "skip_h1_title": false,
   "title_cell": "Table of Contents",
   "title_sidebar": "Contents",
   "toc_cell": false,
   "toc_position": {},
   "toc_section_display": true,
   "toc_window_display": false
  }
 },
 "nbformat": 4,
 "nbformat_minor": 5
}
