{
 "cells": [
  {
   "cell_type": "code",
   "execution_count": 1,
   "id": "5040c84e",
   "metadata": {},
   "outputs": [],
   "source": [
    "# Basic imports\n",
    "import numpy as np\n",
    "import pandas as pd\n",
    "import datetime\n",
    "\n",
    "# sklearn imports\n",
    "from sklearn.model_selection import train_test_split\n",
    "from sklearn.metrics import accuracy_score\n",
    "\n",
    "# Import TensorFlow\n",
    "import tensorflow as tf\n",
    "from tensorflow.keras.datasets import fashion_mnist\n",
    "from tensorflow.keras.models import Sequential, load_model\n",
    "from tensorflow.keras.layers import Dense, Dropout"
   ]
  },
  {
   "cell_type": "markdown",
   "id": "1d200cbf",
   "metadata": {},
   "source": [
    "# Load Dataset"
   ]
  },
  {
   "cell_type": "code",
   "execution_count": 2,
   "id": "bf8efd19",
   "metadata": {},
   "outputs": [],
   "source": [
    "(X_train, y_train), (X_test, y_test) = fashion_mnist.load_data()"
   ]
  },
  {
   "cell_type": "markdown",
   "id": "e3c64dc4",
   "metadata": {},
   "source": [
    "# Normalize the Images\n",
    "Normalizing each image will put each pixel between the range of [0,1]. Normalizing results in the model training faster."
   ]
  },
  {
   "cell_type": "code",
   "execution_count": 3,
   "id": "c249ef36",
   "metadata": {},
   "outputs": [],
   "source": [
    "# Divide by max number of pixels which is 255\n",
    "X_train = X_train / 255"
   ]
  },
  {
   "cell_type": "code",
   "execution_count": 4,
   "id": "2b2df1a6",
   "metadata": {},
   "outputs": [],
   "source": [
    "X_test = X_test / 255"
   ]
  },
  {
   "cell_type": "markdown",
   "id": "a19cb3ce",
   "metadata": {},
   "source": [
    "# Reshaping the Dataset\n",
    "Reshape into Vector Format"
   ]
  },
  {
   "cell_type": "code",
   "execution_count": 5,
   "id": "0d367c20",
   "metadata": {},
   "outputs": [],
   "source": [
    "# Each image is 28x28. Reshape the full dataset; (-1 = all elements, height*width)\n",
    "X_train = X_train.reshape(-1, 28*28)"
   ]
  },
  {
   "cell_type": "code",
   "execution_count": 6,
   "id": "9af335a6",
   "metadata": {},
   "outputs": [
    {
     "data": {
      "text/plain": [
       "(60000, 784)"
      ]
     },
     "execution_count": 6,
     "metadata": {},
     "output_type": "execute_result"
    }
   ],
   "source": [
    "X_train.shape"
   ]
  },
  {
   "cell_type": "code",
   "execution_count": 7,
   "id": "1476de8f",
   "metadata": {},
   "outputs": [],
   "source": [
    "# Reshape the test set as done with train set\n",
    "X_test = X_test.reshape(-1, 28*28)"
   ]
  },
  {
   "cell_type": "code",
   "execution_count": 8,
   "id": "26d1f73a",
   "metadata": {},
   "outputs": [
    {
     "data": {
      "text/plain": [
       "(10000, 784)"
      ]
     },
     "execution_count": 8,
     "metadata": {},
     "output_type": "execute_result"
    }
   ],
   "source": [
    "X_test.shape"
   ]
  },
  {
   "cell_type": "markdown",
   "id": "74146fe5",
   "metadata": {},
   "source": [
    "# Define the Model"
   ]
  },
  {
   "cell_type": "code",
   "execution_count": 9,
   "id": "617415c9",
   "metadata": {},
   "outputs": [],
   "source": [
    "# Create Model Object\n",
    "model = Sequential()"
   ]
  },
  {
   "cell_type": "markdown",
   "id": "34c3a626",
   "metadata": {},
   "source": [
    "# Add a first Full Connected Hidden Layer\n",
    "Layer Hyperparameters:\n",
    "- number of units/ neurons: 128\n",
    "- activation function: ReLU\n",
    "- input_shape: (784,)"
   ]
  },
  {
   "cell_type": "code",
   "execution_count": 10,
   "id": "771d8c40",
   "metadata": {},
   "outputs": [],
   "source": [
    "model.add(Dense(units=128, activation='relu', input_shape=(784, )))"
   ]
  },
  {
   "cell_type": "markdown",
   "id": "3d53b431",
   "metadata": {},
   "source": [
    "## Add Second Layer w/ Dropout\n",
    "Dropout is a regularization technique where neurons are randomly set on a layer to zero. That way, while training, those neurons will not be updated. Whole Training process is long and this results in a lower chance of overfitting."
   ]
  },
  {
   "cell_type": "code",
   "execution_count": 11,
   "id": "41b13308",
   "metadata": {},
   "outputs": [],
   "source": [
    "# Dropout(Percent of Neurons to 'Dropout' = set to zero)\n",
    "model.add(Dropout(0.2))"
   ]
  },
  {
   "cell_type": "markdown",
   "id": "ecbde395",
   "metadata": {},
   "source": [
    "## Add Output Layer\n",
    "Final Layer\n",
    "- units: number of classes (10 in the Fashion MNIST dataset)\n",
    "- activation: softmax"
   ]
  },
  {
   "cell_type": "code",
   "execution_count": 12,
   "id": "8e239595",
   "metadata": {},
   "outputs": [],
   "source": [
    "model.add(Dense(units=10, activation='softmax'))"
   ]
  },
  {
   "cell_type": "markdown",
   "id": "b81f2774",
   "metadata": {},
   "source": [
    "## Compile the Model\n",
    "- Optimizer: Adam\n",
    "- Loss: Sparse softmax (categorical) crossentropy\n",
    "- metrics = [sparse_categorical_accuracy] (For datasets with more than 2 classes)\n",
    "- Binary classification will just use Accuracy"
   ]
  },
  {
   "cell_type": "code",
   "execution_count": 16,
   "id": "c0d286d8",
   "metadata": {},
   "outputs": [],
   "source": [
    "model.compile(optimizer='adam', loss='sparse_categorical_crossentropy', metrics=['sparse_categorical_accuracy'])"
   ]
  },
  {
   "cell_type": "code",
   "execution_count": 17,
   "id": "6ff23e96",
   "metadata": {},
   "outputs": [
    {
     "name": "stdout",
     "output_type": "stream",
     "text": [
      "Model: \"sequential\"\n",
      "_________________________________________________________________\n",
      " Layer (type)                Output Shape              Param #   \n",
      "=================================================================\n",
      " dense (Dense)               (None, 128)               100480    \n",
      "                                                                 \n",
      " dropout (Dropout)           (None, 128)               0         \n",
      "                                                                 \n",
      " dense_1 (Dense)             (None, 10)                1290      \n",
      "                                                                 \n",
      "=================================================================\n",
      "Total params: 101,770\n",
      "Trainable params: 101,770\n",
      "Non-trainable params: 0\n",
      "_________________________________________________________________\n"
     ]
    }
   ],
   "source": [
    "# Summary\n",
    "model.summary()"
   ]
  },
  {
   "cell_type": "markdown",
   "id": "57d9e814",
   "metadata": {},
   "source": [
    "# Train the Model\n",
    "- epochs: number of times the model trains on X_train"
   ]
  },
  {
   "cell_type": "code",
   "execution_count": 18,
   "id": "55f1df3e",
   "metadata": {},
   "outputs": [
    {
     "name": "stdout",
     "output_type": "stream",
     "text": [
      "Epoch 1/5\n",
      "1875/1875 [==============================] - 2s 950us/step - loss: 0.5317 - sparse_categorical_accuracy: 0.8127\n",
      "Epoch 2/5\n",
      "1875/1875 [==============================] - 2s 954us/step - loss: 0.4022 - sparse_categorical_accuracy: 0.8543\n",
      "Epoch 3/5\n",
      "1875/1875 [==============================] - 2s 992us/step - loss: 0.3669 - sparse_categorical_accuracy: 0.8661\n",
      "Epoch 4/5\n",
      "1875/1875 [==============================] - 2s 1ms/step - loss: 0.3446 - sparse_categorical_accuracy: 0.8728\n",
      "Epoch 5/5\n",
      "1875/1875 [==============================] - 2s 1ms/step - loss: 0.3306 - sparse_categorical_accuracy: 0.8786\n"
     ]
    },
    {
     "data": {
      "text/plain": [
       "<keras.callbacks.History at 0x29649f9a0>"
      ]
     },
     "execution_count": 18,
     "metadata": {},
     "output_type": "execute_result"
    }
   ],
   "source": [
    "model.fit(X_train, y_train, epochs=5)"
   ]
  },
  {
   "cell_type": "markdown",
   "id": "174cae52",
   "metadata": {},
   "source": [
    "# Model Evaluation and Predictions"
   ]
  },
  {
   "cell_type": "code",
   "execution_count": 22,
   "id": "ed1880e8",
   "metadata": {},
   "outputs": [
    {
     "name": "stdout",
     "output_type": "stream",
     "text": [
      "313/313 [==============================] - 0s 414us/step - loss: 0.3518 - sparse_categorical_accuracy: 0.8743\n",
      " Test Loss: 0.35176414251327515\n",
      " Test Accuracy: 0.8743000030517578\n"
     ]
    }
   ],
   "source": [
    "test_loss, test_accuracy = model.evaluate(X_test, y_test)\n",
    "print(f' Test Loss: {test_loss}')\n",
    "print(f' Test Accuracy: {test_accuracy}')"
   ]
  },
  {
   "cell_type": "code",
   "execution_count": null,
   "id": "40115fb8",
   "metadata": {},
   "outputs": [],
   "source": []
  }
 ],
 "metadata": {
  "kernelspec": {
   "display_name": "Python 3 (ipykernel)",
   "language": "python",
   "name": "python3"
  },
  "language_info": {
   "codemirror_mode": {
    "name": "ipython",
    "version": 3
   },
   "file_extension": ".py",
   "mimetype": "text/x-python",
   "name": "python",
   "nbconvert_exporter": "python",
   "pygments_lexer": "ipython3",
   "version": "3.9.15"
  },
  "toc": {
   "base_numbering": 1,
   "nav_menu": {},
   "number_sections": true,
   "sideBar": true,
   "skip_h1_title": false,
   "title_cell": "Table of Contents",
   "title_sidebar": "Contents",
   "toc_cell": false,
   "toc_position": {},
   "toc_section_display": true,
   "toc_window_display": false
  }
 },
 "nbformat": 4,
 "nbformat_minor": 5
}
