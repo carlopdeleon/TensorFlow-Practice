{
 "cells": [
  {
   "cell_type": "code",
   "execution_count": 1,
   "id": "fd31bdcb",
   "metadata": {},
   "outputs": [],
   "source": [
    "# Import TensorFlow\n",
    "import tensorflow as tf\n",
    "\n",
    "# Basic imports\n",
    "import numpy as np\n",
    "import pandas as pd"
   ]
  },
  {
   "cell_type": "markdown",
   "id": "245c5833",
   "metadata": {},
   "source": [
    "## Define a Constant"
   ]
  },
  {
   "cell_type": "code",
   "execution_count": 2,
   "id": "bb98382e",
   "metadata": {},
   "outputs": [],
   "source": [
    "# Define a Constant\n",
    "tensor_constant = tf.constant([[23,4], [32,52]])"
   ]
  },
  {
   "cell_type": "code",
   "execution_count": 4,
   "id": "1e809db0",
   "metadata": {},
   "outputs": [
    {
     "data": {
      "text/plain": [
       "<tf.Tensor: shape=(2, 2), dtype=int32, numpy=\n",
       "array([[23,  4],\n",
       "       [32, 52]], dtype=int32)>"
      ]
     },
     "execution_count": 4,
     "metadata": {},
     "output_type": "execute_result"
    }
   ],
   "source": [
    "tensor_constant"
   ]
  },
  {
   "cell_type": "code",
   "execution_count": 5,
   "id": "011484ac",
   "metadata": {},
   "outputs": [
    {
     "data": {
      "text/plain": [
       "TensorShape([2, 2])"
      ]
     },
     "execution_count": 5,
     "metadata": {},
     "output_type": "execute_result"
    }
   ],
   "source": [
    "# Shape\n",
    "tensor_constant.shape"
   ]
  },
  {
   "cell_type": "markdown",
   "id": "8347fffa",
   "metadata": {},
   "source": [
    "## Get values of a Constant"
   ]
  },
  {
   "cell_type": "code",
   "execution_count": 7,
   "id": "e36aeeef",
   "metadata": {},
   "outputs": [
    {
     "data": {
      "text/plain": [
       "array([[23,  4],\n",
       "       [32, 52]], dtype=int32)"
      ]
     },
     "execution_count": 7,
     "metadata": {},
     "output_type": "execute_result"
    }
   ],
   "source": [
    "# Getting the values straight from TensorFlow Constant with numpy. Does not show dtype. \n",
    "tensor_constant.numpy()"
   ]
  },
  {
   "cell_type": "code",
   "execution_count": 8,
   "id": "971d6642",
   "metadata": {},
   "outputs": [],
   "source": [
    "# Convert numpy array back to a Tensorflow tensor\n",
    "numpy_tensor = np.array([[23,4], [32,51]])"
   ]
  },
  {
   "cell_type": "code",
   "execution_count": 9,
   "id": "8aec6301",
   "metadata": {},
   "outputs": [
    {
     "data": {
      "text/plain": [
       "<tf.Tensor: shape=(2, 2), dtype=int64, numpy=\n",
       "array([[23,  4],\n",
       "       [32, 51]])>"
      ]
     },
     "execution_count": 9,
     "metadata": {},
     "output_type": "execute_result"
    }
   ],
   "source": [
    "tensor_from_numpy = tf.constant(numpy_tensor)\n",
    "tensor_from_numpy"
   ]
  },
  {
   "cell_type": "markdown",
   "id": "88779887",
   "metadata": {},
   "source": [
    "## Variables"
   ]
  },
  {
   "cell_type": "code",
   "execution_count": 10,
   "id": "a1469c8d",
   "metadata": {},
   "outputs": [
    {
     "data": {
      "text/plain": [
       "<tf.Variable 'Variable:0' shape=(2, 3) dtype=int32, numpy=\n",
       "array([[1, 2, 3],\n",
       "       [4, 5, 6]], dtype=int32)>"
      ]
     },
     "execution_count": 10,
     "metadata": {},
     "output_type": "execute_result"
    }
   ],
   "source": [
    "tf_variable = tf.Variable([[1,2,3], [4,5,6]])\n",
    "tf_variable"
   ]
  },
  {
   "cell_type": "code",
   "execution_count": 11,
   "id": "f48cfe06",
   "metadata": {},
   "outputs": [
    {
     "data": {
      "text/plain": [
       "array([[1, 2, 3],\n",
       "       [4, 5, 6]], dtype=int32)"
      ]
     },
     "execution_count": 11,
     "metadata": {},
     "output_type": "execute_result"
    }
   ],
   "source": [
    "# Use numpy to get info\n",
    "tf_variable.numpy()"
   ]
  },
  {
   "cell_type": "code",
   "execution_count": 12,
   "id": "cc157c14",
   "metadata": {},
   "outputs": [
    {
     "data": {
      "text/plain": [
       "<tf.Variable 'Variable:0' shape=(2, 3) dtype=int32, numpy=\n",
       "array([[  1, 200,   3],\n",
       "       [  4,   5,   6]], dtype=int32)>"
      ]
     },
     "execution_count": 12,
     "metadata": {},
     "output_type": "execute_result"
    }
   ],
   "source": [
    "# Use \".assign()\" to change a inside variable. ** tf.variable[row,item_in_row] **\n",
    "tf_variable[0,1].assign(200)\n",
    "tf_variable"
   ]
  },
  {
   "cell_type": "markdown",
   "id": "7fac85b1",
   "metadata": {},
   "source": [
    "## Operations with Tensors"
   ]
  },
  {
   "cell_type": "code",
   "execution_count": 13,
   "id": "2bae95a7",
   "metadata": {},
   "outputs": [
    {
     "data": {
      "text/plain": [
       "<tf.Tensor: shape=(2, 2), dtype=int32, numpy=\n",
       "array([[1, 2],\n",
       "       [3, 4]], dtype=int32)>"
      ]
     },
     "execution_count": 13,
     "metadata": {},
     "output_type": "execute_result"
    }
   ],
   "source": [
    "# Tensor Constant\n",
    "tensor = tf.constant([[1,2],[3,4]])\n",
    "tensor"
   ]
  },
  {
   "cell_type": "markdown",
   "id": "105b8cb6",
   "metadata": {},
   "source": [
    "### Addition "
   ]
  },
  {
   "cell_type": "code",
   "execution_count": 14,
   "id": "cca815c6",
   "metadata": {},
   "outputs": [
    {
     "data": {
      "text/plain": [
       "<tf.Tensor: shape=(2, 2), dtype=int32, numpy=\n",
       "array([[3, 4],\n",
       "       [5, 6]], dtype=int32)>"
      ]
     },
     "execution_count": 14,
     "metadata": {},
     "output_type": "execute_result"
    }
   ],
   "source": [
    "# Add 2\n",
    "tensor + 2"
   ]
  },
  {
   "cell_type": "code",
   "execution_count": 15,
   "id": "88596ddf",
   "metadata": {},
   "outputs": [
    {
     "data": {
      "text/plain": [
       "<tf.Tensor: shape=(2, 2), dtype=int32, numpy=\n",
       "array([[6, 7],\n",
       "       [8, 9]], dtype=int32)>"
      ]
     },
     "execution_count": 15,
     "metadata": {},
     "output_type": "execute_result"
    }
   ],
   "source": [
    "# Add 5\n",
    "tensor + 5 "
   ]
  },
  {
   "cell_type": "code",
   "execution_count": 16,
   "id": "50a869a2",
   "metadata": {},
   "outputs": [
    {
     "data": {
      "text/plain": [
       "<tf.Tensor: shape=(2, 2), dtype=int32, numpy=\n",
       "array([[1, 2],\n",
       "       [3, 4]], dtype=int32)>"
      ]
     },
     "execution_count": 16,
     "metadata": {},
     "output_type": "execute_result"
    }
   ],
   "source": [
    "# Original still untounched.\n",
    "tensor"
   ]
  },
  {
   "cell_type": "markdown",
   "id": "7bb9ddb0",
   "metadata": {},
   "source": [
    "### Multiplication "
   ]
  },
  {
   "cell_type": "code",
   "execution_count": 17,
   "id": "cd3c0a29",
   "metadata": {},
   "outputs": [
    {
     "data": {
      "text/plain": [
       "<tf.Tensor: shape=(2, 2), dtype=int32, numpy=\n",
       "array([[ 5, 10],\n",
       "       [15, 20]], dtype=int32)>"
      ]
     },
     "execution_count": 17,
     "metadata": {},
     "output_type": "execute_result"
    }
   ],
   "source": [
    "tensor * 5"
   ]
  },
  {
   "cell_type": "code",
   "execution_count": 18,
   "id": "c4379aa0",
   "metadata": {},
   "outputs": [
    {
     "data": {
      "text/plain": [
       "<tf.Tensor: shape=(2, 2), dtype=int32, numpy=\n",
       "array([[ 7, 14],\n",
       "       [21, 28]], dtype=int32)>"
      ]
     },
     "execution_count": 18,
     "metadata": {},
     "output_type": "execute_result"
    }
   ],
   "source": [
    "tensor * 7"
   ]
  },
  {
   "cell_type": "markdown",
   "id": "f7ff3b5b",
   "metadata": {},
   "source": [
    "## Using NumPy functions on TensorFlow tensors"
   ]
  },
  {
   "cell_type": "code",
   "execution_count": 19,
   "id": "1b7e96bb",
   "metadata": {},
   "outputs": [
    {
     "data": {
      "text/plain": [
       "array([[ 1,  4],\n",
       "       [ 9, 16]], dtype=int32)"
      ]
     },
     "execution_count": 19,
     "metadata": {},
     "output_type": "execute_result"
    }
   ],
   "source": [
    "# Getting the squares of all numbers  in a TF object\n",
    "np.square(tensor)"
   ]
  },
  {
   "cell_type": "code",
   "execution_count": 20,
   "id": "ba000e4e",
   "metadata": {},
   "outputs": [
    {
     "data": {
      "text/plain": [
       "array([[1.        , 1.41421356],\n",
       "       [1.73205081, 2.        ]])"
      ]
     },
     "execution_count": 20,
     "metadata": {},
     "output_type": "execute_result"
    }
   ],
   "source": [
    "# Getting the square root\n",
    "np.sqrt(tensor)"
   ]
  },
  {
   "cell_type": "markdown",
   "id": "14f9a1b3",
   "metadata": {},
   "source": [
    "### Dot product between two tensors"
   ]
  },
  {
   "cell_type": "code",
   "execution_count": 21,
   "id": "64969865",
   "metadata": {},
   "outputs": [
    {
     "data": {
      "text/plain": [
       "<tf.Tensor: shape=(2, 2), dtype=int32, numpy=\n",
       "array([[23,  4],\n",
       "       [32, 52]], dtype=int32)>"
      ]
     },
     "execution_count": 21,
     "metadata": {},
     "output_type": "execute_result"
    }
   ],
   "source": [
    "tensor_constant"
   ]
  },
  {
   "cell_type": "code",
   "execution_count": 22,
   "id": "5e63955f",
   "metadata": {},
   "outputs": [
    {
     "data": {
      "text/plain": [
       "<tf.Tensor: shape=(2, 2), dtype=int32, numpy=\n",
       "array([[1, 2],\n",
       "       [3, 4]], dtype=int32)>"
      ]
     },
     "execution_count": 22,
     "metadata": {},
     "output_type": "execute_result"
    }
   ],
   "source": [
    "tensor"
   ]
  },
  {
   "cell_type": "code",
   "execution_count": 23,
   "id": "cf371b53",
   "metadata": {},
   "outputs": [
    {
     "data": {
      "text/plain": [
       "array([[ 87, 108],\n",
       "       [197, 220]], dtype=int32)"
      ]
     },
     "execution_count": 23,
     "metadata": {},
     "output_type": "execute_result"
    }
   ],
   "source": [
    "np.dot(tensor, tensor_constant)"
   ]
  },
  {
   "cell_type": "markdown",
   "id": "f809df76",
   "metadata": {},
   "source": [
    "## Strings in TensorFlow"
   ]
  },
  {
   "cell_type": "code",
   "execution_count": 24,
   "id": "cc87c67e",
   "metadata": {},
   "outputs": [
    {
     "data": {
      "text/plain": [
       "<tf.Tensor: shape=(), dtype=string, numpy=b'TensorFlow'>"
      ]
     },
     "execution_count": 24,
     "metadata": {},
     "output_type": "execute_result"
    }
   ],
   "source": [
    "tf_string = tf.constant('TensorFlow')\n",
    "tf_string"
   ]
  },
  {
   "cell_type": "markdown",
   "id": "cd2bf4a2",
   "metadata": {},
   "source": [
    "### Simple String Operations"
   ]
  },
  {
   "cell_type": "code",
   "execution_count": 25,
   "id": "023dd162",
   "metadata": {},
   "outputs": [
    {
     "data": {
      "text/plain": [
       "<tf.Tensor: shape=(), dtype=int32, numpy=10>"
      ]
     },
     "execution_count": 25,
     "metadata": {},
     "output_type": "execute_result"
    }
   ],
   "source": [
    "tf.strings.length(tf_string)"
   ]
  },
  {
   "cell_type": "code",
   "execution_count": 26,
   "id": "f7dea0cc",
   "metadata": {},
   "outputs": [
    {
     "data": {
      "text/plain": [
       "<tf.Tensor: shape=(10,), dtype=int32, numpy=array([ 84, 101, 110, 115, 111, 114,  70, 108, 111, 119], dtype=int32)>"
      ]
     },
     "execution_count": 26,
     "metadata": {},
     "output_type": "execute_result"
    }
   ],
   "source": [
    "# Unicode/Decode for NLP\n",
    "tf.strings.unicode_decode(tf_string, 'UTF8')"
   ]
  },
  {
   "cell_type": "markdown",
   "id": "e5a85d33",
   "metadata": {},
   "source": [
    "### Storing arrays of Strings"
   ]
  },
  {
   "cell_type": "code",
   "execution_count": 27,
   "id": "8a92e268",
   "metadata": {},
   "outputs": [],
   "source": [
    "tf_string_array = tf.constant(['TensorFlow', 'Deep Learning', 'AI'])"
   ]
  },
  {
   "cell_type": "code",
   "execution_count": 29,
   "id": "877ff4a6",
   "metadata": {},
   "outputs": [
    {
     "name": "stdout",
     "output_type": "stream",
     "text": [
      "tf.Tensor(b'TensorFlow', shape=(), dtype=string)\n",
      "tf.Tensor(b'Deep Learning', shape=(), dtype=string)\n",
      "tf.Tensor(b'AI', shape=(), dtype=string)\n"
     ]
    }
   ],
   "source": [
    "# Iterating through the TF string array\n",
    "for string in tf_string_array:\n",
    "    print(string)"
   ]
  },
  {
   "cell_type": "code",
   "execution_count": null,
   "id": "a158d63c",
   "metadata": {},
   "outputs": [],
   "source": []
  }
 ],
 "metadata": {
  "kernelspec": {
   "display_name": "Python 3 (ipykernel)",
   "language": "python",
   "name": "python3"
  },
  "language_info": {
   "codemirror_mode": {
    "name": "ipython",
    "version": 3
   },
   "file_extension": ".py",
   "mimetype": "text/x-python",
   "name": "python",
   "nbconvert_exporter": "python",
   "pygments_lexer": "ipython3",
   "version": "3.9.15"
  },
  "toc": {
   "base_numbering": 1,
   "nav_menu": {},
   "number_sections": true,
   "sideBar": true,
   "skip_h1_title": false,
   "title_cell": "Table of Contents",
   "title_sidebar": "Contents",
   "toc_cell": false,
   "toc_position": {},
   "toc_section_display": true,
   "toc_window_display": false
  }
 },
 "nbformat": 4,
 "nbformat_minor": 5
}
