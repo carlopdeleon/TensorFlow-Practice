{
 "cells": [
  {
   "cell_type": "code",
   "execution_count": 1,
   "id": "326e07c0",
   "metadata": {},
   "outputs": [],
   "source": [
    "# Basic imports\n",
    "import numpy as np\n",
    "import pandas as pd\n",
    "import datetime\n",
    "import matplotlib.pyplot as plt\n",
    "\n",
    "# sklearn imports\n",
    "from sklearn.model_selection import train_test_split\n",
    "from sklearn.metrics import accuracy_score\n",
    "\n",
    "# Import TensorFlow\n",
    "import tensorflow as tf\n",
    "from tensorflow.keras.datasets import cifar10\n",
    "from tensorflow.keras.models import Sequential, load_model\n",
    "from tensorflow.keras.layers import Dense, Dropout, Conv2D, MaxPool2D, Flatten\n",
    "\n",
    "%matplotlib inline"
   ]
  },
  {
   "cell_type": "markdown",
   "id": "5c8fa76b",
   "metadata": {},
   "source": [
    "# Data Preprocessing\n"
   ]
  },
  {
   "cell_type": "markdown",
   "id": "5113a1ed",
   "metadata": {},
   "source": [
    "## Load Cifar10 Dataset"
   ]
  },
  {
   "cell_type": "code",
   "execution_count": 2,
   "id": "2524a69e",
   "metadata": {},
   "outputs": [],
   "source": [
    "# Setting class names\n",
    "class_names = ['airplane','automobile','bird','cat',\\\n",
    "               'deer','dog','frog','horse','ship','truck']"
   ]
  },
  {
   "cell_type": "code",
   "execution_count": 3,
   "id": "cdc405bc",
   "metadata": {},
   "outputs": [],
   "source": [
    "# Load the Dataset\n",
    "(X_train, y_train), (X_test, y_test) = cifar10.load_data()"
   ]
  },
  {
   "cell_type": "markdown",
   "id": "9000a24d",
   "metadata": {},
   "source": [
    "## Image Normalization"
   ]
  },
  {
   "cell_type": "code",
   "execution_count": 4,
   "id": "bdd3a3ed",
   "metadata": {},
   "outputs": [
    {
     "data": {
      "text/plain": [
       "(50000, 32, 32, 3)"
      ]
     },
     "execution_count": 4,
     "metadata": {},
     "output_type": "execute_result"
    }
   ],
   "source": [
    "# Divide by 255 because it is the highest value a pixel can have\n",
    "X_train = X_train / 255\n",
    "X_train.shape"
   ]
  },
  {
   "cell_type": "code",
   "execution_count": 5,
   "id": "e4e1dd33",
   "metadata": {},
   "outputs": [
    {
     "data": {
      "text/plain": [
       "(10000, 32, 32, 3)"
      ]
     },
     "execution_count": 5,
     "metadata": {},
     "output_type": "execute_result"
    }
   ],
   "source": [
    "X_test = X_test / 255\n",
    "X_test.shape"
   ]
  },
  {
   "cell_type": "code",
   "execution_count": 6,
   "id": "701d8cfc",
   "metadata": {},
   "outputs": [
    {
     "data": {
      "text/plain": [
       "<matplotlib.image.AxesImage at 0x16991f700>"
      ]
     },
     "execution_count": 6,
     "metadata": {},
     "output_type": "execute_result"
    },
    {
     "data": {
      "image/png": "[encoded data removed]",
      "text/plain": [
       "<Figure size 640x480 with 1 Axes>"
      ]
     },
     "metadata": {},
     "output_type": "display_data"
    }
   ],
   "source": [
    "# Show 11th Image of Test set\n",
    "plt.imshow(X_test[10])"
   ]
  },
  {
   "cell_type": "code",
   "execution_count": 7,
   "id": "28f1e965",
   "metadata": {},
   "outputs": [
    {
     "data": {
      "text/plain": [
       "<matplotlib.image.AxesImage at 0x169c6f0a0>"
      ]
     },
     "execution_count": 7,
     "metadata": {},
     "output_type": "execute_result"
    },
    {
     "data": {
      "image/png": "[encoded data removed]",
      "text/plain": [
       "<Figure size 640x480 with 1 Axes>"
      ]
     },
     "metadata": {},
     "output_type": "display_data"
    }
   ],
   "source": [
    "# Show last Image of Test set\n",
    "plt.imshow(X_test[-1])"
   ]
  },
  {
   "cell_type": "markdown",
   "id": "99557a3b",
   "metadata": {},
   "source": [
    "# Build the Model\n",
    "\n",
    "1. Create Model Object\n",
    "2. Add Convolutional Layers and Max-Pooling Layers (Conv2d, MaxPool2d)\n",
    "3. Add Flatten Layer\n",
    "4. Add first fully connected layer\n",
    "5. Add output layer (final layer)\n"
   ]
  },
  {
   "cell_type": "markdown",
   "id": "42137a3d",
   "metadata": {},
   "source": [
    "## Define the Model Object"
   ]
  },
  {
   "cell_type": "code",
   "execution_count": 8,
   "id": "41225b11",
   "metadata": {},
   "outputs": [],
   "source": [
    "# Model Object\n",
    "model = Sequential()"
   ]
  },
  {
   "cell_type": "markdown",
   "id": "b40fc450",
   "metadata": {},
   "source": [
    "## Add the First Convulotional Layer\n",
    "CNN Layer Hyperparameters:\n",
    "- filters: 32 (Number of outputs in the convultion layer)\n",
    "- kernel_size = 3  (32 filters/kernels of 3x3; can be a tuple to specify height and width)\n",
    "- padding: same\n",
    "- activation: relu\n",
    "- input_shape: (32,32,3)\n"
   ]
  },
  {
   "cell_type": "code",
   "execution_count": 9,
   "id": "f4fc946f",
   "metadata": {},
   "outputs": [],
   "source": [
    "model.add(Conv2D(filters=32, kernel_size=3, padding='same', activation='relu', input_shape= [32,32,3]))"
   ]
  },
  {
   "cell_type": "markdown",
   "id": "d07594fd",
   "metadata": {},
   "source": [
    "## Adding the Second Convolutional Layer and Max-Pooling Layer\n",
    "CNN Layer Hyperparameters:\n",
    "- filters: 32\n",
    "- kernel_size = 3\n",
    "- padding: same\n",
    "- activation: relu\n",
    "\n",
    "MaxPool Layer Hyperparameters\n",
    "- pool_size: 2\n",
    "- strides: 2\n",
    "- padding: valid\n"
   ]
  },
  {
   "cell_type": "code",
   "execution_count": 10,
   "id": "e13302b7",
   "metadata": {},
   "outputs": [],
   "source": [
    "model.add(Conv2D(filters=32, kernel_size=3, padding='same', activation='relu'))\n",
    "model.add(MaxPool2D(pool_size=2, strides=2, padding='valid'))"
   ]
  },
  {
   "cell_type": "markdown",
   "id": "6e5f421d",
   "metadata": {},
   "source": [
    "## Add the Third Convolutional Layer\n",
    "CNN Layer hyperparameters:\n",
    "- filters: 64 \n",
    "- kernel_size: 3\n",
    "- padding: same\n",
    "- activation: relu"
   ]
  },
  {
   "cell_type": "code",
   "execution_count": 11,
   "id": "bad3ff02",
   "metadata": {},
   "outputs": [],
   "source": [
    "model.add(Conv2D(filters=64, kernel_size=3, padding='same', activation='relu'))"
   ]
  },
  {
   "cell_type": "markdown",
   "id": "166c0d3a",
   "metadata": {},
   "source": [
    "## Add the Fourth Convolutional Layer and Max-Pooling Layer\n",
    "- filters: 64\n",
    "- kernel_size: 3\n",
    "- padding: same\n",
    "- activation: relu"
   ]
  },
  {
   "cell_type": "code",
   "execution_count": 12,
   "id": "1686a315",
   "metadata": {},
   "outputs": [],
   "source": [
    "model.add(Conv2D(filters=64, kernel_size=3, padding='same', activation='relu'))\n",
    "model.add(MaxPool2D(pool_size=2, strides=2, padding='valid'))"
   ]
  },
  {
   "cell_type": "markdown",
   "id": "11b10f93",
   "metadata": {},
   "source": [
    "## Add the Flattening Layer"
   ]
  },
  {
   "cell_type": "code",
   "execution_count": 13,
   "id": "86da184a",
   "metadata": {},
   "outputs": [],
   "source": [
    "# No need to add parameters in flatten() as it will use the convolutional parameters\n",
    "# Preps data to be a one-dimensional input\n",
    "model.add(Flatten())"
   ]
  },
  {
   "cell_type": "markdown",
   "id": "5f0187c4",
   "metadata": {},
   "source": [
    "## Add the first fully connected layer\n",
    "Dense Layer hyperparameters:\n",
    "- units/neurons: 128 (Defines the size output of the Dense Layer)\n",
    "- activation: relu"
   ]
  },
  {
   "cell_type": "code",
   "execution_count": 14,
   "id": "493a03dc",
   "metadata": {},
   "outputs": [],
   "source": [
    "model.add(Dense(units=128, activation='relu'))"
   ]
  },
  {
   "cell_type": "markdown",
   "id": "44994aaa",
   "metadata": {},
   "source": [
    "## Add the Output Layer\n",
    "Dense Layer hyperparameters:\n",
    "- units/neurons: 10 (number of classes)\n",
    "- activation: softmax"
   ]
  },
  {
   "cell_type": "code",
   "execution_count": 15,
   "id": "0c1b62c0",
   "metadata": {},
   "outputs": [],
   "source": [
    "model.add(Dense(units=10, activation='softmax'))"
   ]
  },
  {
   "cell_type": "markdown",
   "id": "7dac88e4",
   "metadata": {},
   "source": [
    "## Summary of Model"
   ]
  },
  {
   "cell_type": "code",
   "execution_count": 16,
   "id": "b358c226",
   "metadata": {},
   "outputs": [
    {
     "name": "stdout",
     "output_type": "stream",
     "text": [
      "Model: \"sequential\"\n",
      "_________________________________________________________________\n",
      " Layer (type)                Output Shape              Param #   \n",
      "=================================================================\n",
      " conv2d (Conv2D)             (None, 32, 32, 32)        896       \n",
      "                                                                 \n",
      " conv2d_1 (Conv2D)           (None, 32, 32, 32)        9248      \n",
      "                                                                 \n",
      " max_pooling2d (MaxPooling2D  (None, 16, 16, 32)       0         \n",
      " )                                                               \n",
      "                                                                 \n",
      " conv2d_2 (Conv2D)           (None, 16, 16, 64)        18496     \n",
      "                                                                 \n",
      " conv2d_3 (Conv2D)           (None, 16, 16, 64)        36928     \n",
      "                                                                 \n",
      " max_pooling2d_1 (MaxPooling  (None, 8, 8, 64)         0         \n",
      " 2D)                                                             \n",
      "                                                                 \n",
      " flatten (Flatten)           (None, 4096)              0         \n",
      "                                                                 \n",
      " dense (Dense)               (None, 128)               524416    \n",
      "                                                                 \n",
      " dense_1 (Dense)             (None, 10)                1290      \n",
      "                                                                 \n",
      "=================================================================\n",
      "Total params: 591,274\n",
      "Trainable params: 591,274\n",
      "Non-trainable params: 0\n",
      "_________________________________________________________________\n"
     ]
    }
   ],
   "source": [
    "model.summary()"
   ]
  },
  {
   "cell_type": "markdown",
   "id": "ac13534f",
   "metadata": {},
   "source": [
    "## Compile the Model\n",
    "- Optimizer: adam\n",
    "- Loss: Sparse softmax (categorical) crossentropy\n",
    "- metrics: ['sparce_categorical_accuracy'] for multi-class classification (predicting more than 2 classes)"
   ]
  },
  {
   "cell_type": "code",
   "execution_count": 17,
   "id": "9f3c665e",
   "metadata": {},
   "outputs": [],
   "source": [
    "model.compile(optimizer='adam', loss='sparse_categorical_crossentropy', metrics=['sparse_categorical_accuracy'])"
   ]
  },
  {
   "cell_type": "code",
   "execution_count": 18,
   "id": "5d2e9308",
   "metadata": {},
   "outputs": [
    {
     "name": "stdout",
     "output_type": "stream",
     "text": [
      "Model: \"sequential\"\n",
      "_________________________________________________________________\n",
      " Layer (type)                Output Shape              Param #   \n",
      "=================================================================\n",
      " conv2d (Conv2D)             (None, 32, 32, 32)        896       \n",
      "                                                                 \n",
      " conv2d_1 (Conv2D)           (None, 32, 32, 32)        9248      \n",
      "                                                                 \n",
      " max_pooling2d (MaxPooling2D  (None, 16, 16, 32)       0         \n",
      " )                                                               \n",
      "                                                                 \n",
      " conv2d_2 (Conv2D)           (None, 16, 16, 64)        18496     \n",
      "                                                                 \n",
      " conv2d_3 (Conv2D)           (None, 16, 16, 64)        36928     \n",
      "                                                                 \n",
      " max_pooling2d_1 (MaxPooling  (None, 8, 8, 64)         0         \n",
      " 2D)                                                             \n",
      "                                                                 \n",
      " flatten (Flatten)           (None, 4096)              0         \n",
      "                                                                 \n",
      " dense (Dense)               (None, 128)               524416    \n",
      "                                                                 \n",
      " dense_1 (Dense)             (None, 10)                1290      \n",
      "                                                                 \n",
      "=================================================================\n",
      "Total params: 591,274\n",
      "Trainable params: 591,274\n",
      "Non-trainable params: 0\n",
      "_________________________________________________________________\n"
     ]
    }
   ],
   "source": [
    "model.summary()"
   ]
  },
  {
   "cell_type": "markdown",
   "id": "48da623a",
   "metadata": {},
   "source": [
    "## Train the Model"
   ]
  },
  {
   "cell_type": "code",
   "execution_count": 19,
   "id": "adb94ce5",
   "metadata": {},
   "outputs": [
    {
     "name": "stdout",
     "output_type": "stream",
     "text": [
      "Epoch 1/5\n"
     ]
    },
    {
     "name": "stderr",
     "output_type": "stream",
     "text": [
      "2023-04-19 16:15:51.338139: W tensorflow/tsl/platform/profile_utils/cpu_utils.cc:128] Failed to get CPU frequency: 0 Hz\n"
     ]
    },
    {
     "name": "stdout",
     "output_type": "stream",
     "text": [
      "1563/1563 [==============================] - 33s 21ms/step - loss: 1.3597 - sparse_categorical_accuracy: 0.5096\n",
      "Epoch 2/5\n",
      "1563/1563 [==============================] - 33s 21ms/step - loss: 0.9204 - sparse_categorical_accuracy: 0.6774\n",
      "Epoch 3/5\n",
      "1563/1563 [==============================] - 32s 21ms/step - loss: 0.7417 - sparse_categorical_accuracy: 0.7388\n",
      "Epoch 4/5\n",
      "1563/1563 [==============================] - 34s 22ms/step - loss: 0.6214 - sparse_categorical_accuracy: 0.7824\n",
      "Epoch 5/5\n",
      "1563/1563 [==============================] - 34s 22ms/step - loss: 0.5240 - sparse_categorical_accuracy: 0.8161\n"
     ]
    },
    {
     "data": {
      "text/plain": [
       "<keras.callbacks.History at 0x16be04730>"
      ]
     },
     "execution_count": 19,
     "metadata": {},
     "output_type": "execute_result"
    }
   ],
   "source": [
    "model.fit(X_train, y_train, epochs=5)\n"
   ]
  },
  {
   "cell_type": "markdown",
   "id": "8793468c",
   "metadata": {},
   "source": [
    "## Evaluate Model"
   ]
  },
  {
   "cell_type": "code",
   "execution_count": 20,
   "id": "9e48b1eb",
   "metadata": {},
   "outputs": [
    {
     "name": "stdout",
     "output_type": "stream",
     "text": [
      "313/313 [==============================] - 2s 8ms/step - loss: 0.8143 - sparse_categorical_accuracy: 0.7283\n",
      " Test Loss: 0.8142944574356079\n",
      " Test Accuracy: 0.7282999753952026\n"
     ]
    }
   ],
   "source": [
    "test_loss, test_accuracy = model.evaluate(X_test, y_test)\n",
    "\n",
    "print(f' Test Loss: {test_loss}')\n",
    "print(f' Test Accuracy: {test_accuracy}')"
   ]
  },
  {
   "cell_type": "markdown",
   "id": "3880e5fe",
   "metadata": {},
   "source": [
    "### Increase Epochs to 10\n"
   ]
  },
  {
   "cell_type": "code",
   "execution_count": 21,
   "id": "fd3a044f",
   "metadata": {},
   "outputs": [
    {
     "name": "stdout",
     "output_type": "stream",
     "text": [
      "Epoch 1/10\n",
      "1563/1563 [==============================] - 31s 20ms/step - loss: 0.4347 - sparse_categorical_accuracy: 0.8470\n",
      "Epoch 2/10\n",
      "1563/1563 [==============================] - 35s 22ms/step - loss: 0.3542 - sparse_categorical_accuracy: 0.8754\n",
      "Epoch 3/10\n",
      "1563/1563 [==============================] - 34s 22ms/step - loss: 0.2870 - sparse_categorical_accuracy: 0.8979\n",
      "Epoch 4/10\n",
      "1563/1563 [==============================] - 32s 20ms/step - loss: 0.2367 - sparse_categorical_accuracy: 0.9150\n",
      "Epoch 5/10\n",
      "1563/1563 [==============================] - 32s 21ms/step - loss: 0.2011 - sparse_categorical_accuracy: 0.9282\n",
      "Epoch 6/10\n",
      "1563/1563 [==============================] - 33s 21ms/step - loss: 0.1682 - sparse_categorical_accuracy: 0.9401\n",
      "Epoch 7/10\n",
      "1563/1563 [==============================] - 32s 21ms/step - loss: 0.1487 - sparse_categorical_accuracy: 0.9474\n",
      "Epoch 8/10\n",
      "1563/1563 [==============================] - 32s 20ms/step - loss: 0.1319 - sparse_categorical_accuracy: 0.9541\n",
      "Epoch 9/10\n",
      "1563/1563 [==============================] - 32s 21ms/step - loss: 0.1327 - sparse_categorical_accuracy: 0.9531\n",
      "Epoch 10/10\n",
      "1563/1563 [==============================] - 33s 21ms/step - loss: 0.1154 - sparse_categorical_accuracy: 0.9596\n"
     ]
    },
    {
     "data": {
      "text/plain": [
       "<keras.callbacks.History at 0x16a0287c0>"
      ]
     },
     "execution_count": 21,
     "metadata": {},
     "output_type": "execute_result"
    }
   ],
   "source": [
    "model.fit(X_train, y_train, epochs=10)"
   ]
  },
  {
   "cell_type": "code",
   "execution_count": 22,
   "id": "fd95146e",
   "metadata": {},
   "outputs": [
    {
     "name": "stdout",
     "output_type": "stream",
     "text": [
      "313/313 [==============================] - 2s 6ms/step - loss: 1.6311 - sparse_categorical_accuracy: 0.7244\n",
      " Test Loss: 1.6310995817184448\n",
      " Test Accuracy: 0.724399983882904\n"
     ]
    }
   ],
   "source": [
    "test_loss, test_accuracy = model.evaluate(X_test, y_test)\n",
    "\n",
    "print(f' Test Loss: {test_loss}')\n",
    "print(f' Test Accuracy: {round(test_accuracy,4)}')"
   ]
  },
  {
   "cell_type": "markdown",
   "id": "2dd6fa48",
   "metadata": {},
   "source": [
    "### Increase Epochs to 15"
   ]
  },
  {
   "cell_type": "code",
   "execution_count": 23,
   "id": "ea585133",
   "metadata": {},
   "outputs": [
    {
     "name": "stdout",
     "output_type": "stream",
     "text": [
      "Epoch 1/15\n",
      "1563/1563 [==============================] - 31s 20ms/step - loss: 0.1035 - sparse_categorical_accuracy: 0.9647\n",
      "Epoch 2/15\n",
      "1563/1563 [==============================] - 32s 20ms/step - loss: 0.1048 - sparse_categorical_accuracy: 0.9643\n",
      "Epoch 3/15\n",
      "1563/1563 [==============================] - 35s 23ms/step - loss: 0.1040 - sparse_categorical_accuracy: 0.9652\n",
      "Epoch 4/15\n",
      "1563/1563 [==============================] - 33s 21ms/step - loss: 0.0959 - sparse_categorical_accuracy: 0.9676\n",
      "Epoch 5/15\n",
      "1563/1563 [==============================] - 33s 21ms/step - loss: 0.0870 - sparse_categorical_accuracy: 0.9704\n",
      "Epoch 6/15\n",
      "1563/1563 [==============================] - 33s 21ms/step - loss: 0.0968 - sparse_categorical_accuracy: 0.9679\n",
      "Epoch 7/15\n",
      "1563/1563 [==============================] - 34s 22ms/step - loss: 0.0834 - sparse_categorical_accuracy: 0.9725\n",
      "Epoch 8/15\n",
      "1563/1563 [==============================] - 32s 20ms/step - loss: 0.0833 - sparse_categorical_accuracy: 0.9720\n",
      "Epoch 9/15\n",
      "1563/1563 [==============================] - 33s 21ms/step - loss: 0.0793 - sparse_categorical_accuracy: 0.9738\n",
      "Epoch 10/15\n",
      "1563/1563 [==============================] - 33s 21ms/step - loss: 0.0827 - sparse_categorical_accuracy: 0.9733\n",
      "Epoch 11/15\n",
      "1563/1563 [==============================] - 33s 21ms/step - loss: 0.0773 - sparse_categorical_accuracy: 0.9744\n",
      "Epoch 12/15\n",
      "1563/1563 [==============================] - 33s 21ms/step - loss: 0.0757 - sparse_categorical_accuracy: 0.9761\n",
      "Epoch 13/15\n",
      "1563/1563 [==============================] - 32s 21ms/step - loss: 0.0710 - sparse_categorical_accuracy: 0.9774\n",
      "Epoch 14/15\n",
      "1563/1563 [==============================] - 34s 22ms/step - loss: 0.0797 - sparse_categorical_accuracy: 0.9755\n",
      "Epoch 15/15\n",
      "1563/1563 [==============================] - 35s 22ms/step - loss: 0.0728 - sparse_categorical_accuracy: 0.9773\n"
     ]
    },
    {
     "data": {
      "text/plain": [
       "<keras.callbacks.History at 0x16b041cd0>"
      ]
     },
     "execution_count": 23,
     "metadata": {},
     "output_type": "execute_result"
    }
   ],
   "source": [
    "model.fit(X_train, y_train, epochs=15)"
   ]
  },
  {
   "cell_type": "code",
   "execution_count": 26,
   "id": "d93a612f",
   "metadata": {},
   "outputs": [
    {
     "name": "stdout",
     "output_type": "stream",
     "text": [
      "313/313 [==============================] - 2s 6ms/step - loss: 2.2895 - sparse_categorical_accuracy: 0.7229\n",
      " Test Loss: 2.289450168609619\n",
      " Test Accuracy: 0.7229\n"
     ]
    }
   ],
   "source": [
    "test_loss, test_accuracy = model.evaluate(X_test, y_test)\n",
    "\n",
    "print(f' Test Loss: {test_loss}')\n",
    "print(f' Test Accuracy: {round(test_accuracy,4)}')"
   ]
  },
  {
   "cell_type": "markdown",
   "id": "c93816b0",
   "metadata": {},
   "source": [
    "### Change Optimizer to AdaMax"
   ]
  },
  {
   "cell_type": "code",
   "execution_count": 27,
   "id": "331d10b2",
   "metadata": {},
   "outputs": [],
   "source": [
    "model.compile(optimizer='adamax', loss='sparse_categorical_crossentropy', metrics=['sparse_categorical_accuracy'])"
   ]
  },
  {
   "cell_type": "code",
   "execution_count": 28,
   "id": "b6d084ea",
   "metadata": {},
   "outputs": [
    {
     "name": "stdout",
     "output_type": "stream",
     "text": [
      "Epoch 1/15\n",
      "1563/1563 [==============================] - 34s 21ms/step - loss: 0.0148 - sparse_categorical_accuracy: 0.9954\n",
      "Epoch 2/15\n",
      "1563/1563 [==============================] - 35s 22ms/step - loss: 0.0022 - sparse_categorical_accuracy: 0.9997\n",
      "Epoch 3/15\n",
      "1563/1563 [==============================] - 36s 23ms/step - loss: 7.7062e-04 - sparse_categorical_accuracy: 1.0000\n",
      "Epoch 4/15\n",
      "1563/1563 [==============================] - 37s 23ms/step - loss: 3.5504e-04 - sparse_categorical_accuracy: 1.0000\n",
      "Epoch 5/15\n",
      "1563/1563 [==============================] - 37s 23ms/step - loss: 1.2291e-04 - sparse_categorical_accuracy: 1.0000\n",
      "Epoch 6/15\n",
      "1563/1563 [==============================] - 37s 23ms/step - loss: 5.0934e-05 - sparse_categorical_accuracy: 1.0000\n",
      "Epoch 7/15\n",
      "1563/1563 [==============================] - 34s 22ms/step - loss: 1.7490e-05 - sparse_categorical_accuracy: 1.0000\n",
      "Epoch 8/15\n",
      "1563/1563 [==============================] - 35s 22ms/step - loss: 6.4332e-06 - sparse_categorical_accuracy: 1.0000\n",
      "Epoch 9/15\n",
      "1563/1563 [==============================] - 34s 22ms/step - loss: 2.5143e-06 - sparse_categorical_accuracy: 1.0000\n",
      "Epoch 10/15\n",
      "1563/1563 [==============================] - 33s 21ms/step - loss: 9.4335e-07 - sparse_categorical_accuracy: 1.0000\n",
      "Epoch 11/15\n",
      "1563/1563 [==============================] - 35s 22ms/step - loss: 3.1047e-07 - sparse_categorical_accuracy: 1.0000\n",
      "Epoch 12/15\n",
      "1563/1563 [==============================] - 35s 22ms/step - loss: 1.2181e-07 - sparse_categorical_accuracy: 1.0000\n",
      "Epoch 13/15\n",
      "1563/1563 [==============================] - 34s 22ms/step - loss: 5.3408e-08 - sparse_categorical_accuracy: 1.0000\n",
      "Epoch 14/15\n",
      "1563/1563 [==============================] - 34s 22ms/step - loss: 1.9102e-08 - sparse_categorical_accuracy: 1.0000\n",
      "Epoch 15/15\n",
      "1563/1563 [==============================] - 35s 23ms/step - loss: 1.0698e-08 - sparse_categorical_accuracy: 1.0000\n"
     ]
    },
    {
     "data": {
      "text/plain": [
       "<keras.callbacks.History at 0x16a066df0>"
      ]
     },
     "execution_count": 28,
     "metadata": {},
     "output_type": "execute_result"
    }
   ],
   "source": [
    "model.fit(X_train, y_train, epochs=15)"
   ]
  },
  {
   "cell_type": "code",
   "execution_count": 29,
   "id": "89534abb",
   "metadata": {},
   "outputs": [
    {
     "name": "stdout",
     "output_type": "stream",
     "text": [
      "313/313 [==============================] - 2s 7ms/step - loss: 5.2811 - sparse_categorical_accuracy: 0.7520\n",
      " Test Loss: 5.281054496765137\n",
      " Test Accuracy: 0.752\n"
     ]
    }
   ],
   "source": [
    "test_loss, test_accuracy = model.evaluate(X_test, y_test)\n",
    "\n",
    "print(f' Test Loss: {test_loss}')\n",
    "print(f' Test Accuracy: {round(test_accuracy,4)}')"
   ]
  },
  {
   "cell_type": "markdown",
   "id": "b6f303a8",
   "metadata": {},
   "source": [
    "### Change the Optimizer to Adadelta"
   ]
  },
  {
   "cell_type": "code",
   "execution_count": 30,
   "id": "1d4ae1ed",
   "metadata": {},
   "outputs": [],
   "source": [
    "model.compile(optimizer='adadelta', loss='sparse_categorical_crossentropy', metrics=['sparse_categorical_accuracy'])"
   ]
  },
  {
   "cell_type": "code",
   "execution_count": 31,
   "id": "dda38fd3",
   "metadata": {},
   "outputs": [
    {
     "name": "stdout",
     "output_type": "stream",
     "text": [
      "Epoch 1/15\n",
      "1563/1563 [==============================] - 34s 22ms/step - loss: 1.0540e-08 - sparse_categorical_accuracy: 1.0000\n",
      "Epoch 2/15\n",
      "1563/1563 [==============================] - 35s 22ms/step - loss: 1.0540e-08 - sparse_categorical_accuracy: 1.0000\n",
      "Epoch 3/15\n",
      "1563/1563 [==============================] - 34s 22ms/step - loss: 1.0540e-08 - sparse_categorical_accuracy: 1.0000\n",
      "Epoch 4/15\n",
      "1563/1563 [==============================] - 35s 22ms/step - loss: 1.0540e-08 - sparse_categorical_accuracy: 1.0000\n",
      "Epoch 5/15\n",
      "1563/1563 [==============================] - 36s 23ms/step - loss: 1.0540e-08 - sparse_categorical_accuracy: 1.0000\n",
      "Epoch 6/15\n",
      "1563/1563 [==============================] - 34s 22ms/step - loss: 1.0540e-08 - sparse_categorical_accuracy: 1.0000\n",
      "Epoch 7/15\n",
      "1563/1563 [==============================] - 32s 21ms/step - loss: 1.0540e-08 - sparse_categorical_accuracy: 1.0000\n",
      "Epoch 8/15\n",
      "1563/1563 [==============================] - 32s 21ms/step - loss: 1.0540e-08 - sparse_categorical_accuracy: 1.0000\n",
      "Epoch 9/15\n",
      "1563/1563 [==============================] - 33s 21ms/step - loss: 1.0540e-08 - sparse_categorical_accuracy: 1.0000\n",
      "Epoch 10/15\n",
      "1563/1563 [==============================] - 33s 21ms/step - loss: 1.0540e-08 - sparse_categorical_accuracy: 1.0000\n",
      "Epoch 11/15\n",
      "1563/1563 [==============================] - 33s 21ms/step - loss: 1.0540e-08 - sparse_categorical_accuracy: 1.0000\n",
      "Epoch 12/15\n",
      "1563/1563 [==============================] - 33s 21ms/step - loss: 1.0540e-08 - sparse_categorical_accuracy: 1.0000\n",
      "Epoch 13/15\n",
      "1563/1563 [==============================] - 33s 21ms/step - loss: 1.0540e-08 - sparse_categorical_accuracy: 1.0000\n",
      "Epoch 14/15\n",
      "1563/1563 [==============================] - 32s 21ms/step - loss: 1.0540e-08 - sparse_categorical_accuracy: 1.0000\n",
      "Epoch 15/15\n",
      "1563/1563 [==============================] - 32s 21ms/step - loss: 1.0538e-08 - sparse_categorical_accuracy: 1.0000\n"
     ]
    },
    {
     "data": {
      "text/plain": [
       "<keras.callbacks.History at 0x16b819a60>"
      ]
     },
     "execution_count": 31,
     "metadata": {},
     "output_type": "execute_result"
    }
   ],
   "source": [
    "model.fit(X_train, y_train, epochs=15)"
   ]
  },
  {
   "cell_type": "code",
   "execution_count": 32,
   "id": "0b76bf41",
   "metadata": {},
   "outputs": [
    {
     "name": "stdout",
     "output_type": "stream",
     "text": [
      "313/313 [==============================] - 2s 7ms/step - loss: 5.2811 - sparse_categorical_accuracy: 0.7520\n",
      " Test Loss: 5.2810564041137695\n",
      " Test Accuracy: 0.752\n"
     ]
    }
   ],
   "source": [
    "test_loss, test_accuracy = model.evaluate(X_test, y_test)\n",
    "\n",
    "print(f' Test Loss: {test_loss}')\n",
    "print(f' Test Accuracy: {round(test_accuracy,4)}')"
   ]
  },
  {
   "cell_type": "markdown",
   "id": "3cb28564",
   "metadata": {},
   "source": []
  }
 ],
 "metadata": {
  "kernelspec": {
   "display_name": "Python 3 (ipykernel)",
   "language": "python",
   "name": "python3"
  },
  "language_info": {
   "codemirror_mode": {
    "name": "ipython",
    "version": 3
   },
   "file_extension": ".py",
   "mimetype": "text/x-python",
   "name": "python",
   "nbconvert_exporter": "python",
   "pygments_lexer": "ipython3",
   "version": "3.9.15"
  },
  "toc": {
   "base_numbering": 1,
   "nav_menu": {},
   "number_sections": true,
   "sideBar": true,
   "skip_h1_title": false,
   "title_cell": "Table of Contents",
   "title_sidebar": "Contents",
   "toc_cell": false,
   "toc_position": {},
   "toc_section_display": true,
   "toc_window_display": false
  }
 },
 "nbformat": 4,
 "nbformat_minor": 5
}
